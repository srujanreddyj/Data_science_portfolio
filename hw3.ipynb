{
 "cells": [
  {
   "cell_type": "markdown",
   "metadata": {},
   "source": [
    "# Homework 3\n",
    "\n",
    "\n",
    "**Due 11:55pm on Wed 4th March**\n",
    "\n",
    "We study Table 13.2 on p240 of Lange and Chapter 13 Question 11 (p240) and Chapter 14 Example 14.10.1 (p264).\n",
    "\n",
    "The table contains counts of the number of days that a given number of deaths occurred. The data are from _The London Times_ in the years 1910-1912. "
   ]
  },
  {
   "cell_type": "code",
   "execution_count": 2,
   "metadata": {},
   "outputs": [],
   "source": [
    "freq <- c(162,267,271,185,111,61,27,8,3,1)\n",
    "deaths<- c(0:9)"
   ]
  },
  {
   "cell_type": "code",
   "execution_count": 25,
   "metadata": {},
   "outputs": [
    {
     "data": {
      "image/png": "[encoded data removed]",
      "text/plain": [
       "plot without title"
      ]
     },
     "metadata": {
      "image/png": {
       "height": 300,
       "width": 300
      },
      "text/plain": {
       "height": 300,
       "width": 300
      }
     },
     "output_type": "display_data"
    }
   ],
   "source": [
    "## proportion of different number of deaths\n",
    "options(repr.plot.width=5,repr.plot.height=5)\n",
    "plot(deaths,freq/sum(freq),col='black',pch=19)"
   ]
  },
  {
   "cell_type": "markdown",
   "metadata": {},
   "source": [
    "## Problem 1\n",
    "\n",
    "Confirm Lange's claim in question 11 that \"A Poisson distribution gives a poor fit to these data . . .\" by computing the MLE of the Poisson parameter $\\lambda$ (this should be done by hand using calculus) and plotting the resulting probability mass function over the observed data. They should be a bit discrepant (thus justifying the claim)."
   ]
  },
  {
   "cell_type": "markdown",
   "metadata": {},
   "source": [
    "The Poisson probability mass function is$$ f(x|\\lambda) = \\frac{e^{-\\lambda}\\lambda^x}{x!}$$\n",
    "\n",
    "The MLE maximizes the log likelihood. \n",
    "\n",
    "The log likelihood for the sample is $$ \n",
    "\\begin{align*}\n",
    "\\log f(\\vec{x}) &= \\log \\prod_{i=1}^n f(x_i|\\lambda)\\ \\\\\n",
    "                & = \\sum_{i=1}^n \\log f(x_i|\\lambda)\\ \\\\\n",
    "                & = \\sum_{i=1}^n (-\\lambda + x_i\\log \\lambda - \\log x!)\\ \\\\\n",
    "                & = -n\\lambda + \\sum_{i=1}^n(x_i)  \\log \\lambda - \\sum_{i=1}^n \\log x! \n",
    "\\end{align*} $$\n",
    "\n",
    "Differentienting, setting equal to $0$, and solving for $\\lambda$, we obtain$$ {\\lambda} = \\bar{X} = \\frac{1}{n}\\sum_{i=1}^n x_i $$In other words, the MLE is the sample mean.\n"
   ]
  },
  {
   "cell_type": "code",
   "execution_count": 4,
   "metadata": {},
   "outputs": [
    {
     "data": {
      "text/html": [
       "2.15693430656934"
      ],
      "text/latex": [
       "2.15693430656934"
      ],
      "text/markdown": [
       "2.15693430656934"
      ],
      "text/plain": [
       "[1] 2.156934"
      ]
     },
     "metadata": {},
     "output_type": "display_data"
    }
   ],
   "source": [
    "#Calculating Poisson parameter $\\lambda$ \n",
    "mu <- (1/sum(freq))*sum(deaths*freq)\n",
    "mu"
   ]
  },
  {
   "cell_type": "code",
   "execution_count": 5,
   "metadata": {},
   "outputs": [],
   "source": [
    "#Defining function to calculate factorial of a number\n",
    "facto <- function(no){\n",
    "  fact = 1\n",
    "  if (no==0) {\n",
    "    fact = 1\n",
    "  } else {\n",
    "    for( i in 1:no) {\n",
    "      fact = fact * i\n",
    "    }\n",
    "  }\n",
    "  return(fact)\n",
    "}"
   ]
  },
  {
   "cell_type": "code",
   "execution_count": 26,
   "metadata": {},
   "outputs": [
    {
     "data": {
      "image/png": "[encoded data removed]",
      "text/plain": [
       "plot without title"
      ]
     },
     "metadata": {
      "image/png": {
       "height": 300,
       "width": 300
      },
      "text/plain": {
       "height": 300,
       "width": 300
      }
     },
     "output_type": "display_data"
    }
   ],
   "source": [
    "#Plotting resulting probability mass function over the observed data\n",
    "poisson <- function(k,lambda){\n",
    "  return(exp(-lambda)*(lambda)^k/facto(k))\n",
    "}\n",
    "x=matrix(nrow = 0,ncol=0)\n",
    "for (i in 0:9){\n",
    "  x=append(x,poisson(i,mu))\n",
    "}\n",
    "plot(deaths,freq/sum(freq),col='black',ylab = 'proportion',pch=19)\n",
    "points(y=x,x=0:9,col='red',pch=19)"
   ]
  },
  {
   "cell_type": "markdown",
   "metadata": {},
   "source": [
    "As we can see from the graph above there there is a discrepancy between the red and the black dots indicating that a \n",
    "single poisson distribution gives a poor fit to the data"
   ]
  },
  {
   "cell_type": "markdown",
   "metadata": {},
   "source": [
    "## Problem 2\n",
    "\n",
    "Fit the $\\alpha$, $\\mu_1$ and $\\mu_2$ parameters for the mixture of two Poissons model proposed in Question 11 using a gradient ascent algorithm. You must write your own fitting code (you cannot use `scipy optimize` or R `optim`). Discuss how you select starting parameters and monitor convergence. Include a plot to illustrate the convergence for different starting values of the parameters. "
   ]
  },
  {
   "cell_type": "markdown",
   "metadata": {},
   "source": [
    "The Likelihood function of the mixture of two poisson distribution is written as\n",
    "\n",
    "$$f(\\vec{n}|\\alpha,\\mu_1,\\mu_2) = \\prod_{i=0}^9 \\left(\\underbrace{\\alpha e^{-\\mu_1} \\frac{\\mu_1^i}{i!} + (1-\\alpha)e^{-\\mu_2}\\frac{\\mu_2^i}{i!}}_{\\equiv g_i}\\right)^{n_i}$$\n",
    "\n",
    "\n",
    "\n",
    "So the log likelihood is$$ \\log \\, f = \\sum_{i=0}^9 n_i \\log(g_i) $$\n",
    "\n",
    "The gradient is$$ \\frac{\\partial log f}{\\partial \\alpha} = \\sum_{i=0}^9 \\frac{n_i}{g_i} (e^{-\\mu_1} \\frac{\\mu_1^i}{i!} - e^{-\\mu_2}\\frac{\\mu_2^i} {i!})$$and $$ \\frac{\\partial log f}{\\partial \\mu_j} = \\sum_{i=0}^9 \\frac{n_i}{g_i} \\frac{\\partial g_i}{\\partial \\mu_j}$$ for $\\mu_1$ and $\\mu_2$ $$ \\frac{\\partial log f}{\\partial \\mu_1} = -\\frac{n_0}{g_0} (\\alpha e^{-\\mu_1}) + \\sum_{i=1}^9 \\frac{n_i}{g_i} \\frac{\\alpha e^{-\\mu_1} (i- \\mu_1) \\mu_1^{i-1}}{i!}$$$$ \\frac{\\partial log f}{\\partial \\mu_2} = -\\frac{n_0}{g_0} ((1-\\alpha) e^{-\\mu_2}) + \\sum_{i=1}^9 \\frac{n_i}{g_i} \\frac{(1-\\alpha) e^{-\\mu_2} (i- \\mu_2) \\mu_2^{i-1}}{i!}$$\n",
    "\n"
   ]
  },
  {
   "cell_type": "code",
   "execution_count": 7,
   "metadata": {},
   "outputs": [],
   "source": [
    "#Define function gi\n",
    "gi <- function(i,alpha,mu1,mu2){\n",
    "  return(alpha*exp(-mu1)*(mu1^i)/facto(i)+(1-alpha)*exp(-mu2)*(mu2^i)/facto(i))\n",
    "} "
   ]
  },
  {
   "cell_type": "code",
   "execution_count": 8,
   "metadata": {},
   "outputs": [],
   "source": [
    "#Define log likelihood function for poisson mixture disctribution\n",
    "poisson_loglik <- function(alpha,mu1,mu2){\n",
    "  z <- 0\n",
    "  for(i in 0:9) {\n",
    "    p = freq[i+1]*log(alpha*exp(-mu1)*(mu1^i)/facto(i)+(1-alpha)*exp(-mu2)*(mu2^i)/facto(i))\n",
    "    z=z+p \n",
    "  }\n",
    "  return(z)\n",
    "}"
   ]
  },
  {
   "cell_type": "code",
   "execution_count": 9,
   "metadata": {},
   "outputs": [],
   "source": [
    "###Define the functions for the log gradient of alpha\n",
    "lgrad_alpha <- function(alpha,mu1,mu2){\n",
    "  z<- 0\n",
    "  for (i in 0:9){\n",
    "    p=(freq[i+1]/gi(i,alpha,mu1,mu2))*(exp(-mu1)*(mu1^i)/facto(i)-exp(-mu2)*(mu2^i)/facto(i))\n",
    "    z=z+p\n",
    "  }\n",
    "  return(z)\n",
    "}"
   ]
  },
  {
   "cell_type": "code",
   "execution_count": 10,
   "metadata": {},
   "outputs": [],
   "source": [
    "###Define the functions for the log gradient of mu1\n",
    "lgrad_mu1 <- function(alpha,mu1,mu2){\n",
    "  z<- 0\n",
    "  const = -freq[1]*alpha*exp(-mu1)/gi(0,alpha,mu1,mu2) \n",
    "  for (i in 1:9){\n",
    "    p=(freq[i+1]/gi(i,alpha,mu1,mu2))*alpha*(exp(-mu1)*(mu1^(i-1)*(i-mu1))/facto(i))\n",
    "    z=z+p \n",
    "  }\n",
    "  return(z+const)\n",
    "}   "
   ]
  },
  {
   "cell_type": "code",
   "execution_count": 11,
   "metadata": {},
   "outputs": [],
   "source": [
    "###Define the functions for the log gradient of mu2\n",
    "lgrad_mu2 <- function(alpha,mu1,mu2){\n",
    "  z<- 0\n",
    "  const = -freq[1]*(1-alpha)*exp(-mu2)/gi(0,alpha,mu1,mu2) \n",
    "  for (i in 1:9){\n",
    "    p=(freq[i+1]/gi(i,alpha,mu1,mu2))*(1-alpha)*(exp(-mu2)*(mu2^(i-1)*(i-mu2))/facto(i))\n",
    "    z=z+p\n",
    "  }\n",
    "  return(z+const)\n",
    "}   "
   ]
  },
  {
   "cell_type": "code",
   "execution_count": 12,
   "metadata": {},
   "outputs": [],
   "source": [
    "options(warn=-1)\n",
    "initial_para <- c(0.3,1,2.5)\n",
    "poisson_gradient_asc <- function(initial_para){\n",
    "## We run 1000 iterations for the algorithm to converge\n",
    "Niter <- 1000\n",
    "## store iterates\n",
    "para_hat <<- matrix(0,nrow=Niter+1,ncol=length(initial_para))\n",
    "colnames(para_hat) <<- c(\"alpha\",\"mu1\",\"mu2\")\n",
    "para_hat[1,] <<- initial_para\n",
    "\n",
    "for(jj in 1:Niter){\n",
    "lograd_alpha = lgrad_alpha(para_hat[jj,1],para_hat[jj,2],para_hat[jj,3])\n",
    "lograd_mu1 =  lgrad_mu1(para_hat[jj,1],para_hat[jj,2],para_hat[jj,3])\n",
    "lograd_mu2 = lgrad_mu2(para_hat[jj,1],para_hat[jj,2],para_hat[jj,3])\n",
    "lograd <- c(lograd_alpha,lograd_mu1,lograd_mu2) \n",
    "  half <- TRUE\n",
    "  ## step half until new point increases likelihood\n",
    "  while(half){\n",
    "    temp <- para_hat[jj,] + lograd\n",
    "    newlik <- poisson_loglik(temp[1],temp[2],temp[3])\n",
    "    ## for temp far from maximum, logit_loglik returns\n",
    "    ## Nan values. we replace these with -Inf log likelihoods\n",
    "    if(is.na(newlik)) newlik <- -Inf\n",
    "    ## if less likely, halve step size\n",
    "    if(newlik < poisson_loglik(para_hat[jj,1],para_hat[jj,2],para_hat[jj,3])){\n",
    "      lograd <- lograd/2\n",
    "    } else {\n",
    "      half <- FALSE\n",
    "    }\n",
    "  }\n",
    "  para_hat[jj+1,] <<- temp \n",
    "}  \n",
    "return(para_hat[Niter+1,])    \n",
    "}"
   ]
  },
  {
   "cell_type": "markdown",
   "metadata": {},
   "source": [
    "We choose starting values of parameter as follows:\n",
    "Since in 1st question when we use single poisson distribution we get mean value of 2.156. Therefore, for the mixture of poisson\n",
    "distribution one value should be below and one value should be above this value. Hence here we use mu1=1 and mu2=2.5\n",
    "For alpha, we choose initial value of 0.3 since we believe that the contribution of parameter with high mean will be more as\n",
    "observed from the graph in the 1st question."
   ]
  },
  {
   "cell_type": "code",
   "execution_count": 13,
   "metadata": {},
   "outputs": [
    {
     "data": {
      "text/html": [
       "<dl class=dl-horizontal>\n",
       "\t<dt>alpha</dt>\n",
       "\t\t<dd>0.359884975072537</dd>\n",
       "\t<dt>mu1</dt>\n",
       "\t\t<dd>1.25609436080087</dd>\n",
       "\t<dt>mu2</dt>\n",
       "\t\t<dd>2.6634038494366</dd>\n",
       "</dl>\n"
      ],
      "text/latex": [
       "\\begin{description*}\n",
       "\\item[alpha] 0.359884975072537\n",
       "\\item[mu1] 1.25609436080087\n",
       "\\item[mu2] 2.6634038494366\n",
       "\\end{description*}\n"
      ],
      "text/markdown": [
       "alpha\n",
       ":   0.359884975072537mu1\n",
       ":   1.25609436080087mu2\n",
       ":   2.6634038494366\n",
       "\n"
      ],
      "text/plain": [
       "   alpha      mu1      mu2 \n",
       "0.359885 1.256094 2.663404 "
      ]
     },
     "metadata": {},
     "output_type": "display_data"
    }
   ],
   "source": [
    "poisson_gradient_asc(initial_para)"
   ]
  },
  {
   "cell_type": "code",
   "execution_count": 14,
   "metadata": {},
   "outputs": [
    {
     "name": "stdout",
     "output_type": "stream",
     "text": [
      "          [,1]     [,2]     [,3]\n",
      "[1,] 0.3598850 1.256094 2.663404\n",
      "[2,] 0.3598857 1.256096 2.663405\n",
      "[3,] 0.3598855 1.256095 2.663404\n"
     ]
    }
   ],
   "source": [
    "#Now we will include a plot for different starting values of the parameter\n",
    "start_1 <- c(0.3,1,2.5)\n",
    "start_2 <- c(0.5,1.5,3)\n",
    "start_3 <- c(0.7,1.7,3.5)\n",
    "result <- matrix(0,nrow=3,ncol=3)\n",
    "result[1,] <- poisson_gradient_asc(start_1)\n",
    "result[2,] <- poisson_gradient_asc(start_2)\n",
    "result[3,] <- poisson_gradient_asc(start_3)\n",
    "print(result)"
   ]
  },
  {
   "cell_type": "code",
   "execution_count": 27,
   "metadata": {},
   "outputs": [
    {
     "data": {
      "image/png": "[encoded data removed]",
      "text/plain": [
       "plot without title"
      ]
     },
     "metadata": {
      "image/png": {
       "height": 300,
       "width": 600
      },
      "text/plain": {
       "height": 300,
       "width": 600
      }
     },
     "output_type": "display_data"
    },
    {
     "data": {
      "image/png": "[encoded data removed]",
      "text/plain": [
       "plot without title"
      ]
     },
     "metadata": {
      "image/png": {
       "height": 300,
       "width": 600
      },
      "text/plain": {
       "height": 300,
       "width": 600
      }
     },
     "output_type": "display_data"
    }
   ],
   "source": [
    "options(repr.plot.width=10,repr.plot.height=5)\n",
    "par(mfcol=c(1,2))\n",
    "plot(x=c(start_1[1],start_2[1],start_3[1]),y=result[,1],pch=19,xlab='Starting values_alpha',ylab='Final values_alpha')\n",
    "plot(x=c(start_1[2],start_2[2],start_3[2]),y=result[,2],pch=19,xlab='Starting values_mu1',ylab='Final values_mu1')\n",
    "plot(x=c(start_1[3],start_2[3],start_3[3]),y=result[,3],pch=19,xlab='Starting values_mu2',ylab='Final values_mu2')"
   ]
  },
  {
   "cell_type": "markdown",
   "metadata": {},
   "source": [
    "We see that choosing starting values has a significant impact on the convergence of the gradient ascent algorithm"
   ]
  },
  {
   "cell_type": "markdown",
   "metadata": {},
   "source": [
    "## Problem 3"
   ]
  },
  {
   "cell_type": "markdown",
   "metadata": {},
   "source": [
    "Confirm your answer to Question 2 using the built in Python or R optimizers. Also provide a confidence interval for each of the three parameters. "
   ]
  },
  {
   "cell_type": "code",
   "execution_count": 28,
   "metadata": {},
   "outputs": [],
   "source": [
    "#First we redefine the log likelihood function that takes one parameter and the function calculates negative\n",
    "#log likelihood so that we minimize the function using optim\n",
    "poisson_loglik1 <- function(p){\n",
    "  alpha <- p[1]\n",
    "  mu1 <- p[2]\n",
    "  mu2 <- p[3]\n",
    "  z <- 0\n",
    "  for(i in 0:9) {\n",
    "    p = freq[i+1]*log(alpha*exp(-mu1)*(mu1^i)/facto(i)+(1-alpha)*exp(-mu2)*(mu2^i)/facto(i))\n",
    "    z=z+p \n",
    "  }\n",
    "  return(-z)\n",
    "} "
   ]
  },
  {
   "cell_type": "code",
   "execution_count": 29,
   "metadata": {},
   "outputs": [
    {
     "data": {
      "text/html": [
       "<ol class=list-inline>\n",
       "\t<li>0.360080916090509</li>\n",
       "\t<li>1.25674061030961</li>\n",
       "\t<li>2.66365101909788</li>\n",
       "</ol>\n"
      ],
      "text/latex": [
       "\\begin{enumerate*}\n",
       "\\item 0.360080916090509\n",
       "\\item 1.25674061030961\n",
       "\\item 2.66365101909788\n",
       "\\end{enumerate*}\n"
      ],
      "text/markdown": [
       "1. 0.360080916090509\n",
       "2. 1.25674061030961\n",
       "3. 2.66365101909788\n",
       "\n",
       "\n"
      ],
      "text/plain": [
       "[1] 0.3600809 1.2567406 2.6636510"
      ]
     },
     "metadata": {},
     "output_type": "display_data"
    }
   ],
   "source": [
    "#Now we input the initial value of parameters and the function that needs to be minimized in the 'optim' function\n",
    "par <- initial_para\n",
    "result <- optim(par = par, fn = poisson_loglik1,hessian = TRUE)\n",
    "result$par"
   ]
  },
  {
   "cell_type": "markdown",
   "metadata": {},
   "source": [
    "We get initial values of 0.36,1.256 and 2.66 for alpha, mu1 and mu2 respectively which is close to the\n",
    "value optained using gradient ascent method"
   ]
  },
  {
   "cell_type": "code",
   "execution_count": 30,
   "metadata": {},
   "outputs": [
    {
     "data": {
      "text/html": [
       "<table>\n",
       "<caption>A data.frame: 3 × 3</caption>\n",
       "<thead>\n",
       "\t<tr><th></th><th scope=col>value</th><th scope=col>upper</th><th scope=col>lower</th></tr>\n",
       "\t<tr><th></th><th scope=col>&lt;dbl&gt;</th><th scope=col>&lt;dbl&gt;</th><th scope=col>&lt;dbl&gt;</th></tr>\n",
       "</thead>\n",
       "<tbody>\n",
       "\t<tr><th scope=row>alpha</th><td>0.3600809</td><td>0.7408947</td><td>-0.02073289</td></tr>\n",
       "\t<tr><th scope=row>mu1</th><td>1.2567406</td><td>1.9408564</td><td> 0.57262482</td></tr>\n",
       "\t<tr><th scope=row>mu2</th><td>2.6636510</td><td>3.1538687</td><td> 2.17343335</td></tr>\n",
       "</tbody>\n",
       "</table>\n"
      ],
      "text/latex": [
       "A data.frame: 3 × 3\n",
       "\\begin{tabular}{r|lll}\n",
       "  & value & upper & lower\\\\\n",
       "  & <dbl> & <dbl> & <dbl>\\\\\n",
       "\\hline\n",
       "\talpha & 0.3600809 & 0.7408947 & -0.02073289\\\\\n",
       "\tmu1 & 1.2567406 & 1.9408564 &  0.57262482\\\\\n",
       "\tmu2 & 2.6636510 & 3.1538687 &  2.17343335\\\\\n",
       "\\end{tabular}\n"
      ],
      "text/markdown": [
       "\n",
       "A data.frame: 3 × 3\n",
       "\n",
       "| <!--/--> | value &lt;dbl&gt; | upper &lt;dbl&gt; | lower &lt;dbl&gt; |\n",
       "|---|---|---|---|\n",
       "| alpha | 0.3600809 | 0.7408947 | -0.02073289 |\n",
       "| mu1 | 1.2567406 | 1.9408564 |  0.57262482 |\n",
       "| mu2 | 2.6636510 | 3.1538687 |  2.17343335 |\n",
       "\n"
      ],
      "text/plain": [
       "      value     upper     lower      \n",
       "alpha 0.3600809 0.7408947 -0.02073289\n",
       "mu1   1.2567406 1.9408564  0.57262482\n",
       "mu2   2.6636510 3.1538687  2.17343335"
      ]
     },
     "metadata": {},
     "output_type": "display_data"
    }
   ],
   "source": [
    "#Now we optaine the confidence interval by first calculating the standard error. \n",
    "#Standard error is obtained by taking the square root of the diagonal elements of inverse of hessian matrix\n",
    "#The std. error is then multiplied by 1.96 to obtain the 95% confidence interval\n",
    "fisher_info<-solve(result$hessian) \n",
    "prop_sigma<-sqrt(diag(fisher_info))\n",
    "upper<-result$par+1.96*prop_sigma\n",
    "lower<-result$par-1.96*prop_sigma\n",
    "interval<-data.frame(value=result$par, upper=upper, lower=lower,row.names = c('alpha','mu1','mu2'))\n",
    "interval "
   ]
  },
  {
   "cell_type": "markdown",
   "metadata": {
    "collapsed": true
   },
   "source": [
    "## Problem 4\n",
    "\n",
    "Implement the EM algorithm approach detailed in Question 11 to fit the parameter $\\alpha$, $\\mu_1$ and $\\mu_2$. \n",
    "- Compare the number of steps and the computation time of the EM algorithm to the gradient ascent method you used in Problem 2. \n",
    "- State which is faster and why you think this is the case. \n",
    "- Lastly, name one advantage of each method. "
   ]
  },
  {
   "cell_type": "code",
   "execution_count": 31,
   "metadata": {},
   "outputs": [],
   "source": [
    "#First we define the function Zi(theta)\n",
    "z_i <- function(alpha,mu1,mu2){\n",
    "  x<- c()\n",
    "  for (i in 0:9){\n",
    "    z <- alpha*exp(-mu1)*(mu1^i)\n",
    "    y <- alpha*exp(-mu1)*(mu1^i)+(1-alpha)*exp(-mu2)*(mu2^i)\n",
    "    x<-append(x,(z/y))\n",
    "  }\n",
    "  return(x)\n",
    "}"
   ]
  },
  {
   "cell_type": "code",
   "execution_count": 39,
   "metadata": {},
   "outputs": [],
   "source": [
    "#We implement the EM algorithm by monitoring the convergence using threshold value of 10^-6 for the difference between\n",
    "#new likelihood and previous likelihood\n",
    "em_poisson <- function(){\n",
    "para <<- matrix(0,ncol=length(initial_para))\n",
    "para[1,] <<- initial_para\n",
    "colnames(para) <<- c(\"alpha\",\"mu1\",\"mu2\")\n",
    "a <- Inf  \n",
    "ii<-1\n",
    "while (a>10^-15){    \n",
    "  alpha_m <- sum(freq*z_i(para[ii,1],para[ii,2],para[ii,3]))/sum(freq)\n",
    "  mu1_m <- sum(freq*(0:9)*z_i(para[ii,1],para[ii,2],para[ii,3]))/sum(freq*z_i(para[ii,1],para[ii,2],para[ii,3]))\n",
    "  mu2_m <- sum(freq*(0:9)*(1-z_i(para[ii,1],para[ii,2],para[ii,3])))/sum(freq*(1-z_i(para[ii,1],para[ii,2],para[ii,3])))\n",
    "  lik_new <- poisson_loglik(alpha_m,mu1_m,mu2_m)\n",
    "  a <- lik_new - poisson_loglik(para[ii,1],para[ii,2],para[ii,3])\n",
    "  para <<- rbind(para,c(alpha_m,mu1_m,mu2_m))\n",
    "  ii = ii + 1\n",
    "}\n",
    "  return(para[ii,])\n",
    "}"
   ]
  },
  {
   "cell_type": "code",
   "execution_count": 41,
   "metadata": {},
   "outputs": [
    {
     "data": {
      "text/html": [
       "<dl class=dl-horizontal>\n",
       "\t<dt>alpha</dt>\n",
       "\t\t<dd>0.359883248190675</dd>\n",
       "\t<dt>mu1</dt>\n",
       "\t\t<dd>1.25609136583304</dd>\n",
       "\t<dt>mu2</dt>\n",
       "\t\t<dd>2.66340173255914</dd>\n",
       "</dl>\n"
      ],
      "text/latex": [
       "\\begin{description*}\n",
       "\\item[alpha] 0.359883248190675\n",
       "\\item[mu1] 1.25609136583304\n",
       "\\item[mu2] 2.66340173255914\n",
       "\\end{description*}\n"
      ],
      "text/markdown": [
       "alpha\n",
       ":   0.359883248190675mu1\n",
       ":   1.25609136583304mu2\n",
       ":   2.66340173255914\n",
       "\n"
      ],
      "text/plain": [
       "    alpha       mu1       mu2 \n",
       "0.3598832 1.2560914 2.6634017 "
      ]
     },
     "metadata": {},
     "output_type": "display_data"
    }
   ],
   "source": [
    "#We call the function and check the final values of alpha, mu1 and mu2\n",
    "em_poisson()"
   ]
  },
  {
   "cell_type": "markdown",
   "metadata": {},
   "source": [
    "The values we obtain for alpha, mu1 and mu2 are 0.359, 1.256 and 2.66 respectively which are very close to the actual values"
   ]
  },
  {
   "cell_type": "code",
   "execution_count": 42,
   "metadata": {},
   "outputs": [
    {
     "data": {
      "text/html": [
       "<table>\n",
       "<caption>A data.frame: 2 × 8</caption>\n",
       "<thead>\n",
       "\t<tr><th scope=col>expr</th><th scope=col>min</th><th scope=col>lq</th><th scope=col>mean</th><th scope=col>median</th><th scope=col>uq</th><th scope=col>max</th><th scope=col>neval</th></tr>\n",
       "\t<tr><th scope=col>&lt;fct&gt;</th><th scope=col>&lt;dbl&gt;</th><th scope=col>&lt;dbl&gt;</th><th scope=col>&lt;dbl&gt;</th><th scope=col>&lt;dbl&gt;</th><th scope=col>&lt;dbl&gt;</th><th scope=col>&lt;dbl&gt;</th><th scope=col>&lt;dbl&gt;</th></tr>\n",
       "</thead>\n",
       "<tbody>\n",
       "\t<tr><td>poisson_gradient_asc(initial_para)</td><td>2234.6231</td><td>2288.626</td><td>2397.9029</td><td>2343.3306</td><td>2477.9303</td><td>2842.050</td><td>100</td></tr>\n",
       "\t<tr><td>em_poisson()                      </td><td> 766.8387</td><td> 785.773</td><td> 823.9453</td><td> 806.0615</td><td> 847.1947</td><td>1070.491</td><td>100</td></tr>\n",
       "</tbody>\n",
       "</table>\n"
      ],
      "text/latex": [
       "A data.frame: 2 × 8\n",
       "\\begin{tabular}{llllllll}\n",
       " expr & min & lq & mean & median & uq & max & neval\\\\\n",
       " <fct> & <dbl> & <dbl> & <dbl> & <dbl> & <dbl> & <dbl> & <dbl>\\\\\n",
       "\\hline\n",
       "\t poisson\\_gradient\\_asc(initial\\_para) & 2234.6231 & 2288.626 & 2397.9029 & 2343.3306 & 2477.9303 & 2842.050 & 100\\\\\n",
       "\t em\\_poisson()                       &  766.8387 &  785.773 &  823.9453 &  806.0615 &  847.1947 & 1070.491 & 100\\\\\n",
       "\\end{tabular}\n"
      ],
      "text/markdown": [
       "\n",
       "A data.frame: 2 × 8\n",
       "\n",
       "| expr &lt;fct&gt; | min &lt;dbl&gt; | lq &lt;dbl&gt; | mean &lt;dbl&gt; | median &lt;dbl&gt; | uq &lt;dbl&gt; | max &lt;dbl&gt; | neval &lt;dbl&gt; |\n",
       "|---|---|---|---|---|---|---|---|\n",
       "| poisson_gradient_asc(initial_para) | 2234.6231 | 2288.626 | 2397.9029 | 2343.3306 | 2477.9303 | 2842.050 | 100 |\n",
       "| em_poisson()                       |  766.8387 |  785.773 |  823.9453 |  806.0615 |  847.1947 | 1070.491 | 100 |\n",
       "\n"
      ],
      "text/plain": [
       "  expr                               min       lq       mean      median   \n",
       "1 poisson_gradient_asc(initial_para) 2234.6231 2288.626 2397.9029 2343.3306\n",
       "2 em_poisson()                        766.8387  785.773  823.9453  806.0615\n",
       "  uq        max      neval\n",
       "1 2477.9303 2842.050 100  \n",
       "2  847.1947 1070.491 100  "
      ]
     },
     "metadata": {},
     "output_type": "display_data"
    }
   ],
   "source": [
    "library(microbenchmark)\n",
    "out <- microbenchmark(poisson_gradient_asc(initial_para),em_poisson())\n",
    "summary(out)"
   ]
  },
  {
   "cell_type": "markdown",
   "metadata": {},
   "source": [
    "Comparison of methods:<br>\n",
    "The gradient ascent optimization method has 5 steps: <br>\n",
    "First calculate log likelihood, then calculate gradient for all the 3 parameters. Then update the parameters and check condition if new likelihood is greater than the previous one. We also need to check for Nan values since gradient may be negative.<br>\n",
    "The EM algorithm involves calculating Zi, $\\alpha$ $\\mu1$ and $\\mu2$ and updating the value with each iteration until the increase in likelihood is less than a particular threshold.<br>\n",
    "Hence we can see that the EM algorithm requires less steps as compared to the gradient ascent method.<br>\n",
    "\n",
    "Also, we can see that the running time of poisson gradient is more than that of EM method. I think that the gradient ascent method is slower since it involves computing the gradient at each iteration which may be computationally expensive. <br>\n",
    "\n",
    "Advantages of each method:<br>\n",
    "If we choose good starting values for gradient ascent and the log likelihood function has a close form solution then it will converge faster than EM method.<br>\n",
    "The EM method is more stable and tends to converge even if the starting values are off target."
   ]
  },
  {
   "cell_type": "code",
   "execution_count": null,
   "metadata": {},
   "outputs": [],
   "source": []
  }
 ],
 "metadata": {
  "kernelspec": {
   "display_name": "R",
   "language": "R",
   "name": "ir"
  },
  "language_info": {
   "codemirror_mode": "r",
   "file_extension": ".r",
   "mimetype": "text/x-r-source",
   "name": "R",
   "pygments_lexer": "r",
   "version": "3.6.1"
  }
 },
 "nbformat": 4,
 "nbformat_minor": 1
}
